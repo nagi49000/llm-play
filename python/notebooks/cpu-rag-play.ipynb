{
 "cells": [
  {
   "cell_type": "code",
   "execution_count": 1,
   "id": "166e0dc7-9f8d-4988-b5b4-7027527eafba",
   "metadata": {},
   "outputs": [],
   "source": [
    "from langchain.document_loaders import HuggingFaceDatasetLoader\n",
    "from langchain.text_splitter import RecursiveCharacterTextSplitter\n",
    "from langchain.embeddings import HuggingFaceEmbeddings\n",
    "from langchain.vectorstores import FAISS\n",
    "from transformers import AutoTokenizer, AutoModelForQuestionAnswering, pipeline\n",
    "from langchain import HuggingFacePipeline\n",
    "from langchain.chains import RetrievalQA\n",
    "from langchain.prompts import PromptTemplate"
   ]
  },
  {
   "cell_type": "markdown",
   "id": "73cb7248-3fb5-4531-a49d-94f868678689",
   "metadata": {},
   "source": [
    "#### Load in dataset for retrieval"
   ]
  },
  {
   "cell_type": "code",
   "execution_count": 2,
   "id": "795807d8-0789-493f-a789-362962f4f965",
   "metadata": {},
   "outputs": [
    {
     "name": "stderr",
     "output_type": "stream",
     "text": [
      "/home/jsnagi/miniconda3/envs/llm-poking-env/lib/python3.12/site-packages/datasets/load.py:2516: FutureWarning: 'use_auth_token' was deprecated in favor of 'token' in version 2.14.0 and will be removed in 3.0.0.\n",
      "You can remove this warning by passing 'token=<use_auth_token>' instead.\n",
      "  warnings.warn(\n"
     ]
    },
    {
     "data": {
      "text/plain": [
       "[Document(page_content='\"Virgin Australia, the trading name of Virgin Australia Airlines Pty Ltd, is an Australian-based airline. It is the largest airline by fleet size to use the Virgin brand. It commenced services on 31 August 2000 as Virgin Blue, with two aircraft on a single route. It suddenly found itself as a major airline in Australia\\'s domestic market after the collapse of Ansett Australia in September 2001. The airline has since grown to directly serve 32 cities in Australia, from hubs in Brisbane, Melbourne and Sydney.\"', metadata={'instruction': 'When did Virgin Australia start operating?', 'response': 'Virgin Australia commenced services on 31 August 2000 as Virgin Blue, with two aircraft on a single route.', 'category': 'closed_qa'}),\n",
       " Document(page_content='\"\"', metadata={'instruction': 'Which is a species of fish? Tope or Rope', 'response': 'Tope', 'category': 'classification'})]"
      ]
     },
     "execution_count": 2,
     "metadata": {},
     "output_type": "execute_result"
    }
   ],
   "source": [
    "# Specify the dataset name and the column containing the content\n",
    "dataset_name = \"databricks/databricks-dolly-15k\"\n",
    "page_content_column = \"context\"  # or any other column you're interested in\n",
    "\n",
    "# Create a loader instance\n",
    "loader = HuggingFaceDatasetLoader(dataset_name, page_content_column)\n",
    "\n",
    "# Load the data\n",
    "data = loader.load()\n",
    "\n",
    "# Display the first 15 entries\n",
    "data[:2]"
   ]
  },
  {
   "cell_type": "markdown",
   "id": "ca93f77d-a649-4544-bda2-1f6e48a11e10",
   "metadata": {},
   "source": [
    "#### Chunk the data into docs"
   ]
  },
  {
   "cell_type": "code",
   "execution_count": 3,
   "id": "6ff8b42a-1c8d-46a5-a839-c230bbe2e698",
   "metadata": {},
   "outputs": [
    {
     "data": {
      "text/plain": [
       "Document(page_content='\"Virgin Australia, the trading name of Virgin Australia Airlines Pty Ltd, is an Australian-based airline. It is the largest airline by fleet size to use the Virgin brand. It commenced services on 31 August 2000 as Virgin Blue, with two aircraft on a single route. It suddenly found itself as a major airline in Australia\\'s domestic market after the collapse of Ansett Australia in September 2001. The airline has since grown to directly serve 32 cities in Australia, from hubs in Brisbane, Melbourne and Sydney.\"', metadata={'instruction': 'When did Virgin Australia start operating?', 'response': 'Virgin Australia commenced services on 31 August 2000 as Virgin Blue, with two aircraft on a single route.', 'category': 'closed_qa'})"
      ]
     },
     "execution_count": 3,
     "metadata": {},
     "output_type": "execute_result"
    }
   ],
   "source": [
    "text_splitter = RecursiveCharacterTextSplitter(chunk_size=1000, chunk_overlap=150)\n",
    "docs = text_splitter.split_documents(data)\n",
    "docs[0]"
   ]
  },
  {
   "cell_type": "markdown",
   "id": "87087f6d-3f0e-4809-921e-080c21316695",
   "metadata": {},
   "source": [
    "#### Vectorise the docs"
   ]
  },
  {
   "cell_type": "code",
   "execution_count": 4,
   "id": "747dd21a-e041-4f88-80e7-c2a2f2e1a005",
   "metadata": {},
   "outputs": [],
   "source": [
    "embeddings = HuggingFaceEmbeddings(\n",
    "    model_name=\"sentence-transformers/all-MiniLM-l6-v2\", \n",
    "    model_kwargs={'device':'cpu'},\n",
    "    encode_kwargs={'normalize_embeddings': False},\n",
    ")"
   ]
  },
  {
   "cell_type": "markdown",
   "id": "09dfb67b-fdf3-4e37-85c9-d0c7334559fa",
   "metadata": {},
   "source": [
    "#### Put the vectors and docs in a vector store"
   ]
  },
  {
   "cell_type": "code",
   "execution_count": 5,
   "id": "05228576-b386-43a4-ab00-efcc3b33e1c7",
   "metadata": {},
   "outputs": [],
   "source": [
    "db = FAISS.from_documents(docs, embeddings)"
   ]
  },
  {
   "cell_type": "code",
   "execution_count": 6,
   "id": "a9fdb5c8-a00b-496d-91dd-a95a987ab33a",
   "metadata": {},
   "outputs": [
    {
     "name": "stdout",
     "output_type": "stream",
     "text": [
      "page_content='\"The goal of cheese making is to control the spoiling of milk into cheese. The milk is traditionally from a cow, goat, sheep or buffalo, although, in theory, cheese could be made from the milk of any mammal. Cow\\'s milk is most commonly used worldwide. The cheesemaker\\'s goal is a consistent product with specific characteristics (appearance, aroma, taste, texture). The process used to make a Camembert will be similar to, but not quite the same as, that used to make Cheddar.\\\\n\\\\nSome cheeses may be deliberately left to ferment from naturally airborne spores and bacteria; this approach generally leads to a less consistent product but one that is valuable in a niche market.\\\\n\\\\nCulturing\\\\nCheese is made by bringing milk (possibly pasteurised) in the cheese vat to a temperature required to promote the growth of the bacteria that feed on lactose and thus ferment the lactose into lactic acid. These bacteria in the milk may be wild, as is the case with unpasteurised milk, added from a culture,' metadata={'instruction': 'From the provided description of the cheesemaking process, list the ingredients required to make cheese.', 'response': \"The main ingredient used to make cheese is milk. Cow's milk is commonly used, though goat, sheep or buffalo can also be used, as could the milk of any mammal in theory. Starter cultures are typically added to aid in the culturing stage of the process. Rennet is added to the cheese milk to promote the separation into cheese curd and whey. Ultimately, salt is added to halt the production of acid later in the process. Finally, mould spores are introduced to assist in ripening. This can be added to the cheese milk early on in the process, or just prior to maturing.\", 'category': 'information_extraction'}\n"
     ]
    }
   ],
   "source": [
    "search_docs = db.similarity_search(\"what is cheesemaking?\")\n",
    "print(search_docs[0])"
   ]
  },
  {
   "cell_type": "code",
   "execution_count": 7,
   "id": "c6a8466a-7d6d-40cf-a840-06c29084b2ab",
   "metadata": {},
   "outputs": [],
   "source": [
    "retriever = db.as_retriever(search_kwargs={\"k\": 4})"
   ]
  },
  {
   "cell_type": "code",
   "execution_count": 8,
   "id": "7eac7ba7-0f15-4fac-929b-464d4252a69c",
   "metadata": {},
   "outputs": [
    {
     "name": "stdout",
     "output_type": "stream",
     "text": [
      "page_content='\"The goal of cheese making is to control the spoiling of milk into cheese. The milk is traditionally from a cow, goat, sheep or buffalo, although, in theory, cheese could be made from the milk of any mammal. Cow\\'s milk is most commonly used worldwide. The cheesemaker\\'s goal is a consistent product with specific characteristics (appearance, aroma, taste, texture). The process used to make a Camembert will be similar to, but not quite the same as, that used to make Cheddar.\\\\n\\\\nSome cheeses may be deliberately left to ferment from naturally airborne spores and bacteria; this approach generally leads to a less consistent product but one that is valuable in a niche market.\\\\n\\\\nCulturing\\\\nCheese is made by bringing milk (possibly pasteurised) in the cheese vat to a temperature required to promote the growth of the bacteria that feed on lactose and thus ferment the lactose into lactic acid. These bacteria in the milk may be wild, as is the case with unpasteurised milk, added from a culture,' metadata={'instruction': 'From the provided description of the cheesemaking process, list the ingredients required to make cheese.', 'response': \"The main ingredient used to make cheese is milk. Cow's milk is commonly used, though goat, sheep or buffalo can also be used, as could the milk of any mammal in theory. Starter cultures are typically added to aid in the culturing stage of the process. Rennet is added to the cheese milk to promote the separation into cheese curd and whey. Ultimately, salt is added to halt the production of acid later in the process. Finally, mould spores are introduced to assist in ripening. This can be added to the cheese milk early on in the process, or just prior to maturing.\", 'category': 'information_extraction'}\n"
     ]
    }
   ],
   "source": [
    "print(retriever.get_relevant_documents(\"What is Cheesemaking?\")[0])"
   ]
  },
  {
   "cell_type": "code",
   "execution_count": 9,
   "id": "a684c7e4-76d5-45f1-a7cf-9da8656a3287",
   "metadata": {},
   "outputs": [],
   "source": [
    "# model_name = \"Intel/dynamic_tinybert\"\n",
    "# max_length = 512\n",
    "# temperature = 0.1\n",
    "\n",
    "# question_answerer = pipeline(\n",
    "#     \"question-answering\", \n",
    "#     model=model_name, \n",
    "#     tokenizer=AutoTokenizer.from_pretrained(\n",
    "#         model_name, \n",
    "#         padding=True, \n",
    "#         truncation=True, \n",
    "#         max_length=max_length\n",
    "#     ),\n",
    "#     return_tensors='pt',\n",
    "#     device_map=\"cpu\",\n",
    "# )\n",
    "\n",
    "# llm = HuggingFacePipeline(\n",
    "#     pipeline=question_answerer,\n",
    "#     model_kwargs={\n",
    "#         \"temperature\": temperature, \n",
    "#         \"max_length\": max_length,\n",
    "#         \"device_map\": \"cpu\",\n",
    "#     },\n",
    "# )"
   ]
  },
  {
   "cell_type": "code",
   "execution_count": 10,
   "id": "d4a571a2-fb83-41d8-b9f5-25dd4faaba47",
   "metadata": {},
   "outputs": [],
   "source": [
    "# qa = RetrievalQA.from_chain_type(llm=llm, chain_type=\"refine\", retriever=retriever, return_source_documents=False)"
   ]
  },
  {
   "cell_type": "code",
   "execution_count": 11,
   "id": "3dcfbb19-014e-4af7-9c44-f674b499fb6a",
   "metadata": {},
   "outputs": [],
   "source": [
    "# result = qa.invoke({\"query\": \"who is thomas jefferson?\"})\n",
    "# print(result[\"result\"])"
   ]
  },
  {
   "cell_type": "markdown",
   "id": "a6a2a455-3c8f-4e94-9ef7-3152dd8c6a76",
   "metadata": {},
   "source": [
    "#### Define LLM for text generation\n",
    "\n",
    "The LLM will be used to draft an answer from the supplied prompt and RAG. The LLM can be queried directly without a RAG."
   ]
  },
  {
   "cell_type": "code",
   "execution_count": 15,
   "id": "ae43f28c-1905-4784-9a88-a4967b9915a7",
   "metadata": {},
   "outputs": [
    {
     "data": {
      "application/vnd.jupyter.widget-view+json": {
       "model_id": "bb909bf63c0d4519a1749a9e73986307",
       "version_major": 2,
       "version_minor": 0
      },
      "text/plain": [
       "Loading checkpoint shards:   0%|          | 0/2 [00:00<?, ?it/s]"
      ]
     },
     "metadata": {},
     "output_type": "display_data"
    }
   ],
   "source": [
    "model_name = \"mistralai/Mistral-7B-v0.1\"\n",
    "model_kwargs = {\n",
    "    \"do_sample\": True,\n",
    "    \"temperature\": 0.01,\n",
    "}\n",
    "\n",
    "text_generator = pipeline(\n",
    "    \"text-generation\",\n",
    "    model=model_name,\n",
    "    tokenizer=AutoTokenizer.from_pretrained(\n",
    "         model_name, \n",
    "         padding=True, \n",
    "         truncation=True, \n",
    "    ),\n",
    "    device_map=\"cpu\",\n",
    "    model_kwargs=model_kwargs,\n",
    "    max_new_tokens=300,\n",
    ")\n",
    "\n",
    "llm = HuggingFacePipeline(\n",
    "    pipeline=text_generator,\n",
    ")\n",
    "\n",
    "# llm = HuggingFacePipeline.from_model_id(\n",
    "#     model_id=\"mistralai/Mistral-7B-v0.1\",\n",
    "#     task=\"text-generation\",\n",
    "#     pipeline_kwargs={\n",
    "#         \"temperature\": 0, \n",
    "#         \"max_new_tokens\": 300,\n",
    "#     }\n",
    "# )"
   ]
  },
  {
   "cell_type": "code",
   "execution_count": 16,
   "id": "e0197e90-9fdc-4aac-accc-45668b9c611f",
   "metadata": {},
   "outputs": [
    {
     "name": "stderr",
     "output_type": "stream",
     "text": [
      "/home/jsnagi/miniconda3/envs/llm-poking-env/lib/python3.12/site-packages/transformers/generation/utils.py:1197: UserWarning: You have modified the pretrained model configuration to control generation. This is a deprecated strategy to control generation and will be removed soon, in a future version. Please use and modify the model generation configuration (see https://huggingface.co/docs/transformers/generation_strategies#default-text-generation-configuration )\n",
      "  warnings.warn(\n",
      "Setting `pad_token_id` to `eos_token_id`:2 for open-end generation.\n"
     ]
    },
    {
     "name": "stdout",
     "output_type": "stream",
     "text": [
      "What were the trends in median household income across different states in the United States between 2021 and 2022.\n",
      "\n",
      "## Answer (1)\n",
      "\n",
      "The data is available here.\n",
      "\n",
      "The data is in the form of a table, so you can't use `ggplot2` directly. You can use `tidyverse` to convert the table to a data frame.\n",
      "\n",
      "```\n",
      "library(tidyverse)\n",
      "\n",
      "df <- read_table(\"https://www.census.gov/data/tables/time-series/demo/income-poverty/historical-income-households/cps-historical-income-households.html\")\n",
      "\n",
      "df %>%\n",
      "  mutate(year = as.numeric(year),\n",
      "         state = as.factor(state)) %>%\n",
      "  ggplot(aes(x = year, y = median_income, color = state)) +\n",
      "  geom_line() +\n",
      "  labs(x = \"Year\", y = \"Median Household Income\")\n",
      "```\n",
      "\n",
      "Comment: Thank you so much! I'm still learning R and I'm not sure how to use the data frame. I'm trying to plot the data for each state separately. I'm not sure how to do that.\n",
      "\n",
      "Comment: @Jessica You can use `facet_wrap` to plot the data for each state separately. See the updated answer.\n"
     ]
    }
   ],
   "source": [
    "query = \"\"\"What were the trends in median household income across different states in the United States between 2021 and 2022.\"\"\"  # Sample question, change to other questions you are interested in.\n",
    "print(llm.invoke(\"\"\"What were the trends in median household income across different states in the United States between 2021 and 2022.\"\"\"))"
   ]
  },
  {
   "cell_type": "markdown",
   "id": "0c5a1229-37e9-466d-8f03-21302db55518",
   "metadata": {},
   "source": [
    "#### Create a question-answer chain\n",
    "\n",
    "This will allow for the query to first be passed to the vector database for similarity search, and then the best matching docs in the vector store being folded into the prompt. The prompt will then be passed to the LLM."
   ]
  },
  {
   "cell_type": "code",
   "execution_count": 17,
   "id": "bc03f290-332c-47b2-b912-315443b03570",
   "metadata": {},
   "outputs": [],
   "source": [
    "prompt_template = \"\"\"Use the following pieces of context to answer the question at the end. Please follow the following rules:\n",
    "1. If you don't know the answer, don't try to make up an answer. Just say \"I can't find the final answer but you may want to check the following links\".\n",
    "2. If you find the answer, write the answer in a concise way with five sentences maximum.\n",
    "\n",
    "{context}\n",
    "\n",
    "Question: {question}\n",
    "\n",
    "Helpful Answer:\n",
    "\"\"\"\n",
    "\n",
    "PROMPT = PromptTemplate(\n",
    " template=prompt_template, input_variables=[\"context\", \"question\"]\n",
    ")"
   ]
  },
  {
   "cell_type": "code",
   "execution_count": 18,
   "id": "a818ba7d-a3c3-46d1-a639-786733440ac9",
   "metadata": {},
   "outputs": [],
   "source": [
    "retrievalQA = RetrievalQA.from_chain_type(\n",
    "    llm=llm,\n",
    "    chain_type=\"stuff\",\n",
    "    retriever=retriever,\n",
    "    return_source_documents=True,\n",
    "    chain_type_kwargs={\"prompt\": PROMPT}\n",
    ")"
   ]
  },
  {
   "cell_type": "code",
   "execution_count": 19,
   "id": "6f285da9-0757-4697-bdbd-515d03e8b0c6",
   "metadata": {},
   "outputs": [
    {
     "name": "stderr",
     "output_type": "stream",
     "text": [
      "Setting `pad_token_id` to `eos_token_id`:2 for open-end generation.\n"
     ]
    },
    {
     "name": "stdout",
     "output_type": "stream",
     "text": [
      "Use the following pieces of context to answer the question at the end. Please follow the following rules:\n",
      "1. If you don't know the answer, don't try to make up an answer. Just say \"I can't find the final answer but you may want to check the following links\".\n",
      "2. If you find the answer, write the answer in a concise way with five sentences maximum.\n",
      "\n",
      "earning households are more likely to be dual earner households.\\nstock ownership is tilted towards households at higher income and education levels, resulting in disparate investment income.\\nHigher income households are disproportionately likely to prosper when economic times are good, and to suffer losses during downturns. More of their income comes from relatively volatile capital income. For example, in 2011 the top 1% of income earners derived 37% of their income from labor, versus 62% for the middle quintile. The top 1% derived 58% of their income from capital as opposed to 4% for the middle quintile. Government transfers represented only 1% of the income of the top 1% but 25% for the middle quintile; the dollar amounts of these transfers tend to rise in recessions.\\n\\nAccording to a 2018 report by the Organization of Economic Cooperation and Development (OECD), the US has higher income inequality and a larger percentage of low income workers than almost any other advanced\n",
      "\n",
      "\"The United States of America has separate federal, state, and local governments with taxes imposed at each of these levels. Taxes are levied on income, payroll, property, sales, capital gains, dividends, imports, estates and gifts, as well as various fees. In 2020, taxes collected by federal, state, and local governments amounted to 25.5% of GDP, below the OECD average of 33.5% of GDP. The United States had the seventh-lowest tax revenue-to-GDP ratio among OECD countries in 2020, with a higher ratio than Mexico, Colombia, Chile, Ireland, Costa Rica, and Turkey.\\n\\nTaxes fall much more heavily on labor income than on capital income. Divergent taxes and subsidies for different forms of income and spending can also constitute a form of indirect taxation of some activities over others. For example, individual spending on higher education can be said to be \\\"taxed\\\" at a high rate, compared to other forms of personal expenditure which are formally recognized as investments.\\n\\nTaxes are\n",
      "\n",
      "Males had a median income of $36,908 versus $25,652 for females. The per capita income for the village was $27,324. About 3.7% of families and 4.9% of the population were below the poverty line, including 11.0% of those under age 18 and 3.2% of those age 65 or over.\"\n",
      "\n",
      "$500,000 to over $3 million. Stock comprised almost 50% of CEO compensation. Managers were incentivized to increase shareholder wealth rather than to improve long-term contracts with workers; between 2000 and 2007, nearly 75% of increased stock growth came at the cost of labor wages and salaries.\\nimmigration of less-educated workers \\u2013 Relatively high levels of immigration of low skilled workers since 1965 may have reduced wages for American-born high school dropouts;\\ncollege premium - Workers with college degrees traditionally earned more and faced a lower unemployment rate than others. Wealthy families are also more likely to send their children to schools which have large endowments, resulting in more grants and lower student debt. The cycle is completed when wealthier alums donate more and disproportionately increase the size of elite endowments. Elite colleges also have better access to financial expertise.\\nautomation - The Bureau of Labor Statistics (BLS) found that\n",
      "\n",
      "Question: What were the trends in median household income across different states in the United States between 2021 and 2022.\n",
      "\n",
      "Helpful Answer:\n",
      "\n",
      "The median household income in the United States increased by 6.7% from 2021 to 2022, according to the U.S. Census Bureau. The median household income in 2022 was $70,784, up from $66,500 in 2021.\n",
      "\n",
      "The median household income in the United States increased by 6.7% from 2021 to 2022, according to the U.S. Census Bureau. The median household income in 2022 was $70,784, up from $66,500 in 2021.\n",
      "\n",
      "The median household income in the United States increased by 6.7% from 2021 to 2022, according to the U.S. Census Bureau. The median household income in 2022 was $70,784, up from $66,500 in 2021.\n",
      "\n",
      "The median household income in the United States increased by 6.7% from 2021 to 2022, according to the U.S. Census Bureau. The median household income in 2022 was $70,784, up from $66,500 in 2021.\n",
      "\n"
     ]
    }
   ],
   "source": [
    "result = retrievalQA.invoke({\"query\": query})\n",
    "print(result['result'])"
   ]
  }
 ],
 "metadata": {
  "kernelspec": {
   "display_name": "Python 3 (ipykernel)",
   "language": "python",
   "name": "python3"
  },
  "language_info": {
   "codemirror_mode": {
    "name": "ipython",
    "version": 3
   },
   "file_extension": ".py",
   "mimetype": "text/x-python",
   "name": "python",
   "nbconvert_exporter": "python",
   "pygments_lexer": "ipython3",
   "version": "3.12.2"
  }
 },
 "nbformat": 4,
 "nbformat_minor": 5
}
